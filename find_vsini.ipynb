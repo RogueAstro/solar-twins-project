{
 "cells": [
  {
   "cell_type": "markdown",
   "metadata": {},
   "source": [
    "# Find v sin(i) with Python and MOOG synth\n",
    "\n",
    "This notebook is used to estimate the projected rotation of solar twin stars using Python, MOOG synth, in addition to RogueAstro's pwoogs and astroChasqui's q2 codes.\n",
    "\n",
    "Required files:\n",
    "* s_twins.csv: contains the information of the stars\n",
    "* filenames.lis: contains the list of names of the spectrum .fits files\n",
    "* lines.dat: contains information about the lines to be analyzed\n",
    "* continuum.dat: contains the wavelengths to be used to calibrate the continuum"
   ]
  },
  {
   "cell_type": "code",
   "execution_count": null,
   "metadata": {
    "collapsed": false
   },
   "outputs": [],
   "source": [
    "import numpy as np\n",
    "from pwoogs import moog,estimate,utils\n",
    "import matplotlib.pyplot as plt\n",
    "import q2\n",
    "import shutil as sh\n",
    "%matplotlib inline"
   ]
  },
  {
   "cell_type": "code",
   "execution_count": null,
   "metadata": {
    "collapsed": true
   },
   "outputs": [],
   "source": [
    "# Getting star names\n",
    "star_names = np.loadtxt('s_twins.csv',\n",
    "                        skiprows=1,\n",
    "                        usecols=(0,),\n",
    "                        dtype=str,\n",
    "                        delimiter=',')\n",
    "\n",
    "# This is used to manage data arrays\n",
    "u = utils.arr_manage()"
   ]
  },
  {
   "cell_type": "markdown",
   "metadata": {},
   "source": [
    "The following function is used to set the input files to be used by MOOG for a specific star from the list star_names."
   ]
  },
  {
   "cell_type": "code",
   "execution_count": null,
   "metadata": {
    "collapsed": false
   },
   "outputs": [],
   "source": [
    "def set_star(choice, **kwargs):\n",
    "\n",
    "    if ('inverted_filelist' in kwargs):\n",
    "        invert = kwargs['inverted_filelist']\n",
    "    else:\n",
    "        invert = False\n",
    "            \n",
    "    choice = int(choice)\n",
    "    \n",
    "    print 'Creating the stellar atmosphere file.'\n",
    "    \n",
    "    data = np.loadtxt('s_twins.csv',\n",
    "                      usecols=(1,2,3,4),\n",
    "                      skiprows=1,\n",
    "                      delimiter=',')\n",
    "    model = q2.modatm.interpolate(data[choice,0],\n",
    "                                  data[choice,1],\n",
    "                                  data[choice,2],\n",
    "                                  grid='odfnew')\n",
    "    N = len(model['RHOX'])\n",
    "\n",
    "    with open('star.mod','w') as f:\n",
    "        f.truncate()\n",
    "        f.write(\n",
    "            \"\"\"KURTYPE\n",
    "    %.1f/  %.2f/  %.2f      mic =  %.2f                                         \n",
    "                %i\n",
    "    5000.0\\n\"\"\" % (data[choice,0],\n",
    "                   data[choice,1],\n",
    "                   data[choice,2],\n",
    "                   data[choice,3],\n",
    "                   N)\n",
    "            )\n",
    "        for i in range(N):\n",
    "            f.write(\" %.8E   %.1f %.3E %.3E\\n\" % (\n",
    "                model['RHOX'][i],\n",
    "                model['T'][i],\n",
    "                model['P'][i],\n",
    "                model['XNE'][i])\n",
    "            )\n",
    "\n",
    "        f.write('         %.2f\\n' % data[choice,3])\n",
    "        f.write(\n",
    "                \"\"\"NATOMS        0          %.2f\n",
    "    NMOL         28\n",
    "    101.0   106.0   107.0   108.0   112.0   126.0\n",
    "    606.0   607.0   608.0\n",
    "    707.0   708.0\n",
    "    808.0   812.0   822.0   823.0   840.0\n",
    "    10108.0 10820.0 60808.0\n",
    "    6.1     7.1     8.1   12.1  20.1  22.1  23.1  26.1  40.1\n",
    "    \"\"\" % data[choice,2]\n",
    "                )\n",
    "    \n",
    "    # filenames.lis contains the names of all the fits files of the spectra\n",
    "    # In my case, the list is in an opposite order as the list of star names,\n",
    "    # so that's choice is re-set if invert == True\n",
    "    filename = np.loadtxt('filenames.lis',str)\n",
    "    if invert == True:\n",
    "        choice = len(star_names)-1-choice\n",
    "    print \"Creating the spectrum_full.dat file for %s\" % filename[choice]\n",
    "    sh.copyfile(filename[choice],'spectrum_full.dat')"
   ]
  },
  {
   "cell_type": "markdown",
   "metadata": {},
   "source": [
    "v_m returns the macroturbulent velocity for a solar twin with a temperature T."
   ]
  },
  {
   "cell_type": "code",
   "execution_count": null,
   "metadata": {
    "collapsed": true
   },
   "outputs": [],
   "source": [
    "def v_m(T):\n",
    "    return 3.6+(T-5777.)/486"
   ]
  },
  {
   "cell_type": "markdown",
   "metadata": {},
   "source": [
    "Managing data file because it is possibly huge"
   ]
  },
  {
   "cell_type": "code",
   "execution_count": null,
   "metadata": {
    "collapsed": true
   },
   "outputs": [],
   "source": [
    "def manage(choice, interval, lines, chunk):\n",
    "\n",
    "    print 'Managing the data file.'\n",
    "    spec_window = np.array([lines[choice,0]-interval/2,lines[choice,0]+interval/2])\n",
    "    u.cut(spec_window[0]-chunk,spec_window[1]+chunk,'spectrum_full.dat','spectrum.dat')\n",
    "    print 'Done.\\n'\n",
    "    \n",
    "    return spec_window"
   ]
  },
  {
   "cell_type": "markdown",
   "metadata": {},
   "source": [
    "Function that returns the corrections factors for line center and continuum"
   ]
  },
  {
   "cell_type": "code",
   "execution_count": null,
   "metadata": {
    "collapsed": true
   },
   "outputs": [],
   "source": [
    "def correct(choice, data, lines, cont_type, r_1, r_2, r_3):\n",
    "\n",
    "    # The following lines are used to find calibration corrections for the spectral line\n",
    "    print 'Finding the shift on the wavelength.'\n",
    "    wl_shift = 10.\n",
    "    ind = u.find_index(lines[choice,0],data[:,0])\n",
    "    while abs(wl_shift) > 2.0:\n",
    "        center = u.find_center(data[ind-r_1+1:ind+r_1+2])\n",
    "        wl_shift = lines[choice,0]-center\n",
    "    print 'Wavelength shift = %.4f\\n' % wl_shift\n",
    "\n",
    "    print \"Finding the correction factor for the continuum.\"\n",
    "    ind_min = u.find_index(lines[choice,0]-r_2,data[:,0])\n",
    "    ind_max = u.find_index(lines[choice,0]+r_2,data[:,0])\n",
    "    if cont_type == 'single':    \n",
    "        corr = 1.0/np.mean(u.find_corr(\n",
    "            data[ind_min:ind_max,:],\n",
    "            r_3\n",
    "            ))\n",
    "    elif cont_type == 'multi':\n",
    "        target_wls = np.loadtxt('continuum.dat')\n",
    "        corr = 1.0/np.mean(u.find_corr_from_ensemble(\n",
    "        data[ind_min:ind_max,:],\n",
    "        target_wls[choice,:],\n",
    "        r_3\n",
    "        ))\n",
    "    print \"Correction factor = %.4f\" % corr\n",
    "\n",
    "    return wl_shift, corr"
   ]
  },
  {
   "cell_type": "markdown",
   "metadata": {},
   "source": [
    "Next, there is the code that finds the v sin(i) in fully automatic mode, for a specific star."
   ]
  },
  {
   "cell_type": "code",
   "execution_count": null,
   "metadata": {
    "collapsed": false
   },
   "outputs": [],
   "source": [
    "def full_auto(choice, interval, res_power, SN, **kwargs):\n",
    "    \n",
    "    # Spectrum chunk size. Default = 10. angstroms\n",
    "    if ('chunk' in kwargs):\n",
    "        chunk = kwargs['chunk']\n",
    "        assert chunk > interval, 'Invalid chunk size'\n",
    "    else:\n",
    "        chunk = 10.0\n",
    "\n",
    "    # Continuum correction: choose between 'single' or 'multi' wavelengths\n",
    "    if ('continuum_correction' in kwargs):\n",
    "        cont_type = kwargs['continuum_correction']\n",
    "        assert cont_type == 'multi', 'Continuum correction type invalid'\n",
    "    else:\n",
    "        cont_type = 'single'\n",
    "        \n",
    "    # Radius of points to be used in finding the correction for the line center\n",
    "    # Default = 3\n",
    "    if ('r_1' in kwargs):\n",
    "        radius_1 = kwargs['r_1']\n",
    "        assert radius_1 > 0, 'Invalid radius for line center correction'\n",
    "    else:\n",
    "        radius_1 = 3\n",
    "        \n",
    "    # Radius in angstroms for the region around the target wavelength to be\n",
    "    # analyzed for the continuum . Default = 3.0\n",
    "    if ('r_2' in kwargs):\n",
    "        radius_2 = kwargs['r_2']\n",
    "        assert radius_2 > 0, 'Invalid radius of wavelength region'\n",
    "    else:\n",
    "        radius_2 = 3.0\n",
    "        \n",
    "    # Radius in points to be used in finding the correction for the continuum.\n",
    "    # Default = 2\n",
    "    if ('r_3' in kwargs):\n",
    "        radius_3 = kwargs['r_3']\n",
    "        assert radius_3 > 0, 'Invalid radius for continuum correction'\n",
    "    else:\n",
    "        radius_3 = 2    \n",
    "    \n",
    "    # Radius in points to be used in evaluating the performance function\n",
    "    # Default = 7\n",
    "    if ('r_4' in kwargs):\n",
    "        radius_4 = kwargs['r_4']\n",
    "        assert radius_4 > 0, 'Invalid radius for performance evaluation'\n",
    "    else:\n",
    "        radius_4 = 7\n",
    "        \n",
    "    # Blue wing weight to be used on estimation. Default = 10.0\n",
    "    if ('bw' in kwargs):\n",
    "        bw = kwargs['bw']\n",
    "        assert bw >= 0.0, 'Invalid weight for blue wing'\n",
    "    else:\n",
    "        bw = 10.0\n",
    "        \n",
    "    # Red wing weight to be used on estimation. Default = 5.0\n",
    "    if ('rw' in kwargs):\n",
    "        rw = kwargs['rw']\n",
    "        assert rw >= 0.0, 'Invalid weight for red wing'\n",
    "    else:\n",
    "        rw = 5.0\n",
    "\n",
    "    # Line center weight to be used on estimation. Default = 25.0\n",
    "    if ('cw' in kwargs):\n",
    "        cw = kwargs['cw']\n",
    "        assert cw >= 0.0, 'Invalid weight for line center'\n",
    "    else:\n",
    "        cw = 25.0\n",
    "        \n",
    "    # Bad fit tolerance in number of points above the S/N ratio. Default = 2\n",
    "    if ('tol' in kwargs):\n",
    "        tol = kwargs['tol']\n",
    "        assert tol >= 0, 'Invalid tolerance'\n",
    "    else:\n",
    "        tol = 2\n",
    "                    \n",
    "    # 'plot' on window or 'save' as png? Default = plot on window\n",
    "    if ('output' in kwargs):\n",
    "        output = kwargs['output']\n",
    "        assert output == 'save', 'Invalid radius for continuum correction'\n",
    "    else:\n",
    "        output = 'plot'\n",
    "    \n",
    "    choice = int(choice)\n",
    "\n",
    "    # Synthesis parameters\n",
    "    line_file = 'lines.dat'\n",
    "    lines = np.loadtxt(line_file,skiprows=1,usecols=(0,1))\n",
    "\n",
    "    # Star parameters\n",
    "    star_info = np.genfromtxt('star.mod',skip_header=1,skip_footer=83,\n",
    "                              usecols=(0,1),delimiter='/  ')\n",
    "    T_star = star_info[0]\n",
    "    v_macro = v_m(T_star)\n",
    "\n",
    "    data = np.loadtxt('spectrum.dat')\n",
    "    \n",
    "    # Managing the data file\n",
    "    spec_window = manage(choice, interval, lines, chunk)\n",
    "\n",
    "    # The instrumental broadening\n",
    "    gauss = np.mean(spec_window)/res_power\n",
    "\n",
    "    # Finding the correction factors\n",
    "    wl_shift, corr = correct(choice, data, lines, cont_type, radius_1, radius_2, \n",
    "                             radius_3)\n",
    "    \n",
    "    print \"Now starting estimation of vsini...\"\n",
    "\n",
    "    # Instatiating the function to write parameters for MOOG\n",
    "    r = estimate.vsini(\n",
    "                spec_window,\n",
    "                gauss,\n",
    "                v_macro,\n",
    "                line_file,\n",
    "                choice,\n",
    "                x_wl=wl_shift,\n",
    "                y_mult=corr,\n",
    "                bwing_w = bw,\n",
    "                rwing_w = rw,\n",
    "                center_w = cw,\n",
    "                perf_radius=radius_4,\n",
    "                SN=SN,\n",
    "                badfit_tol = tol,\n",
    "                star_name=star_names[m]\n",
    "                )\n",
    "\n",
    "    if output == 'plot':\n",
    "        save = 'window'\n",
    "    else:\n",
    "        save = '%s_line%i.png'%(star_names[m],choice)\n",
    "    \n",
    "    # Finding vsini and abundance\n",
    "    vsini,abund,bfs = r.find(N=15,\n",
    "                             max_i=20,\n",
    "                             min_i=10,\n",
    "                             limits=[0.05,0.001],\n",
    "                             save=save)\n",
    "    return vsini,abund,bfs"
   ]
  },
  {
   "cell_type": "code",
   "execution_count": null,
   "metadata": {
    "collapsed": false
   },
   "outputs": [],
   "source": [
    "m = 88\n",
    "set_star(m, inverted_filelist=True)\n",
    "v, a, b = full_auto(choice=5, interval=1.0, r_1=3, r_2=3.0, r_4=7, res_power=65000., SN=400)"
   ]
  }
 ],
 "metadata": {
  "kernelspec": {
   "display_name": "Python 2",
   "language": "python",
   "name": "python2"
  },
  "language_info": {
   "codemirror_mode": {
    "name": "ipython",
    "version": 2
   },
   "file_extension": ".py",
   "mimetype": "text/x-python",
   "name": "python",
   "nbconvert_exporter": "python",
   "pygments_lexer": "ipython2",
   "version": "2.7.10"
  }
 },
 "nbformat": 4,
 "nbformat_minor": 0
}
